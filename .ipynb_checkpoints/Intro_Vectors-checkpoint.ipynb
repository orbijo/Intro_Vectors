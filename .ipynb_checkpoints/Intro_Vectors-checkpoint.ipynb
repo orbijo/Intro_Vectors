{
 "cells": [
  {
   "cell_type": "code",
   "execution_count": null,
   "id": "93c64cc2-e6a0-4e20-b10f-15d61c58aff9",
   "metadata": {},
   "outputs": [],
   "source": [
    "u = np.array([1, 2, 3])   # vector u\n",
    "v = np.array([5, 6, 2])   # vector v:\n",
    "print(u)\n",
    "print(v)\n",
    "print(u+v)"
   ]
  }
 ],
 "metadata": {
  "kernelspec": {
   "display_name": "Python 3 (ipykernel)",
   "language": "python",
   "name": "python3"
  },
  "language_info": {
   "codemirror_mode": {
    "name": "ipython",
    "version": 3
   },
   "file_extension": ".py",
   "mimetype": "text/x-python",
   "name": "python",
   "nbconvert_exporter": "python",
   "pygments_lexer": "ipython3",
   "version": "3.11.0"
  }
 },
 "nbformat": 4,
 "nbformat_minor": 5
}
